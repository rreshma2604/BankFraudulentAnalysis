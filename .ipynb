{
 "cells": [
  {
   "cell_type": "code",
   "execution_count": 1,
   "id": "7428862b",
   "metadata": {},
   "outputs": [],
   "source": [
    "def fileRead():\n",
    "    file = open(\"Transaction.txt\",\"r\", encoding =\"ISO-8859-1\")\n",
    "    Text = file.read()\n",
    "    return Text.strip()\n",
    "    file.close()\n",
    "    \n",
    "def load_dataset_module():\n",
    "    dic ={}\n",
    "    i =0\n",
    "    Text = fileRead()\n",
    "    trans = Text.split(\"\\n\")\n",
    "    #key = [\"userId\",\"transId\",\"disc\",\"amnt\",\"xaxis\",\"yaxis\",\"fraud\"] \n",
    "    for line in trans:     \n",
    "        (userId, transId, disc, amnt, xaxis, yaxis, fraud) = line.split(':')\n",
    "            #print(userId, transId, disc, amnt, xaxis, yaxis, fraud)\n",
    "        dic.setdefault(userId,{})\n",
    "        dic[userId][transId] = {\"discription\": disc, \"amount\":float(amnt), \"xaxis\": float(xaxis), \"yaxis\": float(yaxis), \"fraud\": fraud}\n",
    "        #value = line.split(\":\") #res = dict(zip(key,value)) #dic[i] = res   #i+=1\n",
    "    return dic"
   ]
  },
  {
   "cell_type": "code",
   "execution_count": 2,
   "id": "f216a04a",
   "metadata": {},
   "outputs": [],
   "source": [
    "def minAndMax(dic):\n",
    "    maxVal = 0\n",
    "    minVal = maxVal\n",
    "    \n",
    "    for y in dic:\n",
    "        if dic[y]['amount'] > maxVal:\n",
    "            maxVal = dic[y]['amount']\n",
    "            temp = dic[y]['amount']\n",
    "        elif dic[y]['amount'] < minVal:\n",
    "            minVal = dic[y]['amount']\n",
    "        else:\n",
    "            if (minVal == 0):\n",
    "                minVal = temp\n",
    "            continue;\n",
    "    return (minVal,maxVal)  \n",
    "\n",
    "def calcCentroid(dictxy):\n",
    "    xsum =0\n",
    "    ysum =0\n",
    "    count = 0\n",
    "    \n",
    "    for y in dictxy:\n",
    "        xsum += dictxy[y]['xaxis'] #to get the xaxis\n",
    "        ysum += dictxy[y]['yaxis'] #to get yaxis\n",
    "        count += 1\n",
    "    return (round((xsum/count),2), round((ysum/count),2))\n",
    "\n",
    "def transLocation(dis, centroid):\n",
    "    xval =0\n",
    "    yval = 0\n",
    "    xval = difference(centroid[0] , dis[\"xaxis\"])\n",
    "    yval = difference(centroid[1] , dis[\"yaxis\"])\n",
    "        \n",
    "    return (round(xval,2),round(yval,2))\n",
    "\n",
    "def StandardDeviation(dic):\n",
    "    amountSum =0\n",
    "    count =0\n",
    "    var = 0\n",
    "    stdDev =0\n",
    "    \n",
    "    for amnt in dic:\n",
    "        amountSum += float(dic[amnt][\"amount\"])\n",
    "        count +=1\n",
    "    mean = amountSum/count;\n",
    "    var = sum(((dic[x][\"amount\"])-mean)**2 for x in dic)/count\n",
    "    stdDev = var ** 0.5\n",
    "    return (round(var,2),round(stdDev,2))\n",
    "\n",
    "def identifyFraud(transaction):\n",
    "     if(transaction[\"fraud\"] == 'false'):\n",
    "        return (\"The transaction is a valid one and not a fraudulent\")\n",
    "     else:\n",
    "        return (\"Sorry, but the transaction is a fraudulent\")\n",
    "    \n",
    "def difference(val1,val2):\n",
    "    diff =0\n",
    "    if val1 > val2:\n",
    "        diff = val1 -val2\n",
    "    else:\n",
    "        diff = val2-val1\n",
    "    return diff   \n",
    "              \n",
    "    \n",
    "def distanceBtwTransaction(dic1, dic2):\n",
    "    xaxis = difference(dic1[\"xaxis\"] , dic2[\"xaxis\"])\n",
    "    yaxis = difference(dic1[\"yaxis\"] , dic2[\"yaxis\"])         \n",
    "    return (xaxis,yaxis) \n",
    "    \n",
    "def distbtw2trans(trans1,trans2):\n",
    "    xaxis = difference(trans1[\"xaxis\"],trans2[\"xaxis\"])\n",
    "    yaxis = difference(trans1[\"yaxis\"],trans2[\"yaxis\"])\n",
    "    return (xaxis,yaxis)"
   ]
  },
  {
   "cell_type": "code",
   "execution_count": 3,
   "id": "6398b78c",
   "metadata": {},
   "outputs": [
    {
     "name": "stdout",
     "output_type": "stream",
     "text": [
      "minmax =  (3.43, 4134.79)\n",
      "centroid =  (794.74, 775.28)\n",
      "transaction loaction from centroid= (89.26, 20.28)\n",
      "standard deviation = 1129.68 variance= 1276183.36\n",
      "Sorry, but the transaction is a fraudulent\n",
      "the distance of transactions of any two users (73.0, 184.0)\n",
      "distance between any two given transactions of any user (157.0, 72.0)\n"
     ]
    }
   ],
   "source": [
    "def test_module():\n",
    "    dic = load_dataset_module()\n",
    "    minMax = minAndMax(dic[\"21\"])\n",
    "    print(\"minmax = \",minMax)\n",
    "    print(\"centroid = \",calcCentroid(dic[\"21\"]))\n",
    "    centroidxy = calcCentroid(dic[\"21\"])\n",
    "    print(\"transaction loaction from centroid=\", transLocation(dic[\"21\"][\"500000\"],centroidxy))\n",
    "    stdDev = StandardDeviation(dic[\"21\"])\n",
    "    print(\"standard deviation =\",stdDev[1],\"variance=\", stdDev[0])\n",
    "    print(identifyFraud(dic[\"21\"][\"500100\"]))\n",
    "    print(\"the distance of transactions of any two users\", distanceBtwTransaction(dic[\"21\"][\"500000\"],dic[\"22\"][\"500110\"]))\n",
    "    print(\"distance between any two given transactions of any user\", distbtw2trans(dic[\"21\"][\"500000\"], dic[\"21\"][\"500001\"]))\n",
    "    \n",
    "    \n",
    "test_module()"
   ]
  },
  {
   "cell_type": "code",
   "execution_count": null,
   "id": "7591965c",
   "metadata": {},
   "outputs": [],
   "source": [
    "\n"
   ]
  },
  {
   "cell_type": "code",
   "execution_count": 4,
   "id": "7f1f72f3",
   "metadata": {},
   "outputs": [
    {
     "ename": "NameError",
     "evalue": "name 'S' is not defined",
     "output_type": "error",
     "traceback": [
      "\u001b[1;31m---------------------------------------------------------------------------\u001b[0m",
      "\u001b[1;31mNameError\u001b[0m                                 Traceback (most recent call last)",
      "\u001b[1;32mC:\\Users\\MYPC~1\\AppData\\Local\\Temp/ipykernel_18748/2324250724.py\u001b[0m in \u001b[0;36m<module>\u001b[1;34m\u001b[0m\n\u001b[1;32m----> 1\u001b[1;33m \u001b[0mS\u001b[0m\u001b[1;33m\u001b[0m\u001b[1;33m\u001b[0m\u001b[0m\n\u001b[0m",
      "\u001b[1;31mNameError\u001b[0m: name 'S' is not defined"
     ]
    }
   ],
   "source": []
  }
 ],
 "metadata": {
  "kernelspec": {
   "display_name": "Python 3 (ipykernel)",
   "language": "python",
   "name": "python3"
  },
  "language_info": {
   "codemirror_mode": {
    "name": "ipython",
    "version": 3
   },
   "file_extension": ".py",
   "mimetype": "text/x-python",
   "name": "python",
   "nbconvert_exporter": "python",
   "pygments_lexer": "ipython3",
   "version": "3.9.7"
  }
 },
 "nbformat": 4,
 "nbformat_minor": 5
}
